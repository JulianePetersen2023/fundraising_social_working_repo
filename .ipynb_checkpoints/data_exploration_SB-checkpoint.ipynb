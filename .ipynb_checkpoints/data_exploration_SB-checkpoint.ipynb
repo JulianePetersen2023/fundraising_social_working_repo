{
 "cells": [
  {
   "cell_type": "code",
   "execution_count": 2,
   "id": "53b5ec84",
   "metadata": {},
   "outputs": [],
   "source": [
    "# Importing libraries\n",
    "import pandas as pd\n",
    "import numpy as np"
   ]
  },
  {
   "cell_type": "code",
   "execution_count": 15,
   "id": "822a7351",
   "metadata": {},
   "outputs": [],
   "source": [
    "# Importing tables\n",
    "projects = pd.read_csv('projects.csv')\n",
    "topics = pd.read_csv('topics.csv')\n",
    "topic_relationships = pd.read_csv('topic_relationships.csv')"
   ]
  },
  {
   "cell_type": "code",
   "execution_count": null,
   "id": "4b6b1442",
   "metadata": {},
   "outputs": [],
   "source": []
  }
 ],
 "metadata": {
  "kernelspec": {
   "display_name": "Python 3 (ipykernel)",
   "language": "python",
   "name": "python3"
  },
  "language_info": {
   "codemirror_mode": {
    "name": "ipython",
    "version": 3
   },
   "file_extension": ".py",
   "mimetype": "text/x-python",
   "name": "python",
   "nbconvert_exporter": "python",
   "pygments_lexer": "ipython3",
   "version": "3.11.5"
  }
 },
 "nbformat": 4,
 "nbformat_minor": 5
}
