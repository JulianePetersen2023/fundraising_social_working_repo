{
 "cells": [
  {
   "cell_type": "code",
   "execution_count": 2,
   "id": "0d783ee4",
   "metadata": {},
   "outputs": [],
   "source": [
    "# Importing libraries\n",
    "import pandas as pd"
   ]
  },
  {
   "cell_type": "code",
   "execution_count": 3,
   "id": "9c1b6421",
   "metadata": {},
   "outputs": [],
   "source": [
    "# Importing dataset\n",
    "df = pd.read_csv('Social_enterpreneurship_dataset.csv')"
   ]
  },
  {
   "cell_type": "code",
   "execution_count": 5,
   "id": "c6157bdc",
   "metadata": {},
   "outputs": [
    {
     "data": {
      "text/html": [
       "<div>\n",
       "<style scoped>\n",
       "    .dataframe tbody tr th:only-of-type {\n",
       "        vertical-align: middle;\n",
       "    }\n",
       "\n",
       "    .dataframe tbody tr th {\n",
       "        vertical-align: top;\n",
       "    }\n",
       "\n",
       "    .dataframe thead th {\n",
       "        text-align: right;\n",
       "    }\n",
       "</style>\n",
       "<table border=\"1\" class=\"dataframe\">\n",
       "  <thead>\n",
       "    <tr style=\"text-align: right;\">\n",
       "      <th></th>\n",
       "      <th>project_name</th>\n",
       "      <th>project_location</th>\n",
       "      <th>project_founder</th>\n",
       "      <th>fund_goal</th>\n",
       "      <th>fund_currency</th>\n",
       "      <th>fund_progress</th>\n",
       "      <th>fund_date_end</th>\n",
       "      <th>fund_supporter</th>\n",
       "      <th>category</th>\n",
       "      <th>goal_tipping point</th>\n",
       "      <th>...</th>\n",
       "      <th>Comma</th>\n",
       "      <th>Colon</th>\n",
       "      <th>SemiC</th>\n",
       "      <th>QMark</th>\n",
       "      <th>Exclam</th>\n",
       "      <th>Dash</th>\n",
       "      <th>Quote</th>\n",
       "      <th>Apostro</th>\n",
       "      <th>Parenth</th>\n",
       "      <th>OtherP</th>\n",
       "    </tr>\n",
       "  </thead>\n",
       "  <tbody>\n",
       "    <tr>\n",
       "      <th>0</th>\n",
       "      <td>Bianca Nikol Roberson Mural: STOP GUN VIOLENCE!</td>\n",
       "      <td>Philadelphia, United States</td>\n",
       "      <td>Bianca Nikol Roberson Memorial Foundation Inc ...</td>\n",
       "      <td>25,000</td>\n",
       "      <td>USD</td>\n",
       "      <td>4,142</td>\n",
       "      <td>'Fundraising ended on Mar 27, 2019</td>\n",
       "      <td>56.0</td>\n",
       "      <td>Civic;Community;Social Enterprise;</td>\n",
       "      <td>25,000</td>\n",
       "      <td>...</td>\n",
       "      <td>3.08</td>\n",
       "      <td>1.03</td>\n",
       "      <td>0.0</td>\n",
       "      <td>0.00</td>\n",
       "      <td>1.03</td>\n",
       "      <td>0.00</td>\n",
       "      <td>0.68</td>\n",
       "      <td>1.37</td>\n",
       "      <td>0.0</td>\n",
       "      <td>0.68</td>\n",
       "    </tr>\n",
       "    <tr>\n",
       "      <th>1</th>\n",
       "      <td>Help People with a Disability in Maleny</td>\n",
       "      <td>Maleny, Sunshine Coast, Queensland, Australia</td>\n",
       "      <td>Kristine FitzGerald</td>\n",
       "      <td>20,000</td>\n",
       "      <td>AUD</td>\n",
       "      <td>2,811</td>\n",
       "      <td>'Fundraising ended on Apr 08, 2018</td>\n",
       "      <td>26.0</td>\n",
       "      <td>Arts &amp; Culture;Community;Social Enterprise;</td>\n",
       "      <td>20,000</td>\n",
       "      <td>...</td>\n",
       "      <td>5.05</td>\n",
       "      <td>0.51</td>\n",
       "      <td>0.0</td>\n",
       "      <td>0.25</td>\n",
       "      <td>0.00</td>\n",
       "      <td>0.76</td>\n",
       "      <td>0.00</td>\n",
       "      <td>0.00</td>\n",
       "      <td>0.0</td>\n",
       "      <td>0.00</td>\n",
       "    </tr>\n",
       "    <tr>\n",
       "      <th>2</th>\n",
       "      <td>You Can Help Us Launch The Priceless Campaign</td>\n",
       "      <td>Lancaster</td>\n",
       "      <td>The Priceless Campaign</td>\n",
       "      <td>2,200</td>\n",
       "      <td>USD</td>\n",
       "      <td>1,345</td>\n",
       "      <td>'Fundraising ended on Dec 23, 2012</td>\n",
       "      <td>13.0</td>\n",
       "      <td>Children &amp; Youth;</td>\n",
       "      <td>2,200</td>\n",
       "      <td>...</td>\n",
       "      <td>4.64</td>\n",
       "      <td>0.00</td>\n",
       "      <td>0.0</td>\n",
       "      <td>0.71</td>\n",
       "      <td>3.21</td>\n",
       "      <td>1.07</td>\n",
       "      <td>0.71</td>\n",
       "      <td>0.00</td>\n",
       "      <td>0.0</td>\n",
       "      <td>1.43</td>\n",
       "    </tr>\n",
       "  </tbody>\n",
       "</table>\n",
       "<p>3 rows × 105 columns</p>\n",
       "</div>"
      ],
      "text/plain": [
       "                                       project_name  \\\n",
       "0   Bianca Nikol Roberson Mural: STOP GUN VIOLENCE!   \n",
       "1           Help People with a Disability in Maleny   \n",
       "2     You Can Help Us Launch The Priceless Campaign   \n",
       "\n",
       "                                project_location  \\\n",
       "0                    Philadelphia, United States   \n",
       "1  Maleny, Sunshine Coast, Queensland, Australia   \n",
       "2                                      Lancaster   \n",
       "\n",
       "                                     project_founder fund_goal fund_currency  \\\n",
       "0  Bianca Nikol Roberson Memorial Foundation Inc ...    25,000           USD   \n",
       "1                                Kristine FitzGerald    20,000           AUD   \n",
       "2                             The Priceless Campaign     2,200           USD   \n",
       "\n",
       "  fund_progress                       fund_date_end  fund_supporter  \\\n",
       "0         4,142  'Fundraising ended on Mar 27, 2019            56.0   \n",
       "1         2,811  'Fundraising ended on Apr 08, 2018            26.0   \n",
       "2         1,345  'Fundraising ended on Dec 23, 2012            13.0   \n",
       "\n",
       "                                      category goal_tipping point  ... Comma  \\\n",
       "0           Civic;Community;Social Enterprise;             25,000  ...  3.08   \n",
       "1  Arts & Culture;Community;Social Enterprise;             20,000  ...  5.05   \n",
       "2                            Children & Youth;              2,200  ...  4.64   \n",
       "\n",
       "  Colon SemiC  QMark  Exclam  Dash  Quote  Apostro  Parenth  OtherP  \n",
       "0  1.03   0.0   0.00    1.03  0.00   0.68     1.37      0.0    0.68  \n",
       "1  0.51   0.0   0.25    0.00  0.76   0.00     0.00      0.0    0.00  \n",
       "2  0.00   0.0   0.71    3.21  1.07   0.71     0.00      0.0    1.43  \n",
       "\n",
       "[3 rows x 105 columns]"
      ]
     },
     "execution_count": 5,
     "metadata": {},
     "output_type": "execute_result"
    }
   ],
   "source": [
    "# Explore dataset (first glance)\n",
    "df.head(3)"
   ]
  },
  {
   "cell_type": "markdown",
   "id": "4cc83e2d",
   "metadata": {},
   "source": [
    "## Choosing and renaming columns"
   ]
  },
  {
   "cell_type": "code",
   "execution_count": 6,
   "id": "e3f82f4a",
   "metadata": {},
   "outputs": [
    {
     "data": {
      "text/plain": [
       "project_name           0\n",
       "project_location       0\n",
       "project_founder        0\n",
       "fund_goal              0\n",
       "fund_currency          0\n",
       "fund_progress          0\n",
       "fund_date_end          0\n",
       "fund_supporter         6\n",
       "category               1\n",
       "goal_tipping point     0\n",
       "goal_stretch point     0\n",
       "percentagefunded       0\n",
       "percstretch            0\n",
       "Word_count            36\n",
       "Analytic              36\n",
       "Clout                 36\n",
       "Authentic             36\n",
       "Tone                  36\n",
       "Words_per_sentence    36\n",
       "Sixltr                36\n",
       "function              36\n",
       "pronoun               36\n",
       "ppron                 36\n",
       "i                     36\n",
       "we                    36\n",
       "you                   36\n",
       "shehe                 36\n",
       "they                  36\n",
       "ipron                 36\n",
       "article               36\n",
       "prep                  36\n",
       "auxverb               36\n",
       "adverb                36\n",
       "conj                  36\n",
       "negate                36\n",
       "verb                  36\n",
       "adj                   36\n",
       "compare               36\n",
       "interrog              36\n",
       "number                36\n",
       "quant                 36\n",
       "affect                36\n",
       "posemo                36\n",
       "negemo                36\n",
       "anx                   36\n",
       "anger                 36\n",
       "sad                   36\n",
       "social                36\n",
       "family                36\n",
       "friend                36\n",
       "dtype: int64"
      ]
     },
     "execution_count": 6,
     "metadata": {},
     "output_type": "execute_result"
    }
   ],
   "source": [
    "# Explore column names and null values\n",
    "df.isna().sum().head(50)"
   ]
  },
  {
   "cell_type": "code",
   "execution_count": 7,
   "id": "4c3b35ec",
   "metadata": {},
   "outputs": [
    {
     "data": {
      "text/plain": [
       "(1474, 14)"
      ]
     },
     "execution_count": 7,
     "metadata": {},
     "output_type": "execute_result"
    }
   ],
   "source": [
    "# Selection of relevant columns\n",
    "df = df[['project_name', 'project_founder', 'project_location', 'category', 'fund_date_end', 'fund_currency', 'fund_goal', 'goal_tipping point', 'goal_stretch point', 'fund_progress', 'percentagefunded', 'percstretch', 'fund_supporter', 'Word_count']]\n",
    "df.shape"
   ]
  },
  {
   "cell_type": "code",
   "execution_count": 8,
   "id": "edb4f13b",
   "metadata": {},
   "outputs": [],
   "source": [
    "# Renaming columns\n",
    "df.columns = ['title', 'founder', 'location', 'topic', 'year', 'currency', 'funding_goal', 'funding_goal_tipping_point', 'funding_goal_stretch_point', 'funding_raised', 'percentage_of_goal', 'percentage_of_goal_stretch', 'number_of_supporters', 'word_count_description']"
   ]
  },
  {
   "cell_type": "code",
   "execution_count": 9,
   "id": "64fbde1e",
   "metadata": {},
   "outputs": [
    {
     "data": {
      "text/plain": [
       "Index(['title', 'founder', 'location', 'topic', 'year', 'currency',\n",
       "       'funding_goal', 'funding_goal_tipping_point',\n",
       "       'funding_goal_stretch_point', 'funding_raised', 'percentage_of_goal',\n",
       "       'percentage_of_goal_stretch', 'number_of_supporters',\n",
       "       'word_count_description'],\n",
       "      dtype='object')"
      ]
     },
     "execution_count": 9,
     "metadata": {},
     "output_type": "execute_result"
    }
   ],
   "source": [
    "# Check renaming success\n",
    "df.columns"
   ]
  },
  {
   "cell_type": "code",
   "execution_count": 11,
   "id": "4b92a768",
   "metadata": {},
   "outputs": [
    {
     "data": {
      "text/plain": [
       "title                          0\n",
       "founder                        0\n",
       "location                       0\n",
       "topic                          1\n",
       "year                           0\n",
       "currency                       0\n",
       "funding_goal                   0\n",
       "funding_goal_tipping_point     0\n",
       "funding_goal_stretch_point     0\n",
       "funding_raised                 0\n",
       "percentage_of_goal             0\n",
       "percentage_of_goal_stretch     0\n",
       "number_of_supporters           6\n",
       "word_count_description        36\n",
       "dtype: int64"
      ]
     },
     "execution_count": 11,
     "metadata": {},
     "output_type": "execute_result"
    }
   ],
   "source": [
    "df.isna().sum()"
   ]
  },
  {
   "cell_type": "code",
   "execution_count": null,
   "id": "0e2d67ac",
   "metadata": {},
   "outputs": [],
   "source": []
  },
  {
   "cell_type": "code",
   "execution_count": null,
   "id": "24e82e7d",
   "metadata": {},
   "outputs": [],
   "source": []
  },
  {
   "cell_type": "markdown",
   "id": "b02b22a6",
   "metadata": {},
   "source": [
    "## Column clean up: Currency and related columns"
   ]
  },
  {
   "cell_type": "code",
   "execution_count": 8,
   "id": "37b9f22c",
   "metadata": {},
   "outputs": [
    {
     "data": {
      "text/plain": [
       "fund_currency\n",
       "USD       862\n",
       "AUD       410\n",
       "EUR        70\n",
       "GBP        66\n",
       "CAD        32\n",
       "SGD         6\n",
       "CHFCHF      5\n",
       "SEK         4\n",
       "MXN         3\n",
       "RZAR        2\n",
       "KSKES       2\n",
       "COP         2\n",
       "NZD         2\n",
       "NGN         1\n",
       "INR         1\n",
       "JPY         1\n",
       "MAD         1\n",
       "DKK         1\n",
       "HKD         1\n",
       "FJD         1\n",
       "NOK         1\n",
       "Name: count, dtype: int64"
      ]
     },
     "execution_count": 8,
     "metadata": {},
     "output_type": "execute_result"
    }
   ],
   "source": [
    "# Exploring unique currencies\n",
    "df['currency'].value_counts()"
   ]
  }
 ],
 "metadata": {
  "kernelspec": {
   "display_name": "Python 3 (ipykernel)",
   "language": "python",
   "name": "python3"
  },
  "language_info": {
   "codemirror_mode": {
    "name": "ipython",
    "version": 3
   },
   "file_extension": ".py",
   "mimetype": "text/x-python",
   "name": "python",
   "nbconvert_exporter": "python",
   "pygments_lexer": "ipython3",
   "version": "3.11.4"
  }
 },
 "nbformat": 4,
 "nbformat_minor": 5
}
